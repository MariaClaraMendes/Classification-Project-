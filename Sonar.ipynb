{
  "nbformat": 4,
  "nbformat_minor": 0,
  "metadata": {
    "colab": {
      "name": "Sonar.ipynb",
      "provenance": []
    },
    "kernelspec": {
      "name": "python3",
      "display_name": "Python 3"
    },
    "language_info": {
      "name": "python"
    }
  },
  "cells": [
    {
      "cell_type": "markdown",
      "metadata": {
        "id": "SOIL0s2QlhV2"
      },
      "source": [
        "# Analyze Data"
      ]
    },
    {
      "cell_type": "code",
      "metadata": {
        "id": "7PQ8OclqlJye"
      },
      "source": [
        "# Load libraries\n",
        "import numpy\n",
        "from matplotlib import pyplot\n",
        "from pandas import read_csv\n",
        "from pandas import set_option\n",
        "from pandas.plotting import scatter_matrix\n",
        "from sklearn.preprocessing import StandardScaler\n",
        "from sklearn.model_selection import train_test_split\n",
        "from sklearn.model_selection import KFold\n",
        "from sklearn.model_selection import cross_val_score\n",
        "from sklearn.model_selection import GridSearchCV\n",
        "from sklearn.metrics import classification_report\n",
        "from sklearn.metrics import confusion_matrix\n",
        "from sklearn.metrics import accuracy_score\n",
        "from sklearn.pipeline import Pipeline\n",
        "from sklearn.linear_model import LogisticRegression\n",
        "from sklearn.tree import DecisionTreeClassifier\n",
        "from sklearn.neighbors import KNeighborsClassifier\n",
        "from sklearn.discriminant_analysis import LinearDiscriminantAnalysis\n",
        "from sklearn.naive_bayes import GaussianNB\n",
        "from sklearn.svm import SVC\n",
        "from sklearn.ensemble import AdaBoostClassifier\n",
        "from sklearn.ensemble import GradientBoostingClassifier\n",
        "from sklearn.ensemble import RandomForestClassifier\n",
        "from sklearn.ensemble import ExtraTreesClassifier"
      ],
      "execution_count": 1,
      "outputs": []
    },
    {
      "cell_type": "code",
      "metadata": {
        "id": "QwK1BVTslsDF"
      },
      "source": [
        "# Load Dataset\n",
        "url = 'sonar.all-data.csv'\n",
        "dataset = read_csv(url, header=None)"
      ],
      "execution_count": 2,
      "outputs": []
    },
    {
      "cell_type": "markdown",
      "metadata": {
        "id": "wWSWTuXLm_O_"
      },
      "source": [
        "## Descriptive Statistics"
      ]
    },
    {
      "cell_type": "code",
      "metadata": {
        "colab": {
          "base_uri": "https://localhost:8080/"
        },
        "id": "ZC-JRI6fmxPQ",
        "outputId": "99ad90bd-4fbf-416f-da5e-4e52d562d9c0"
      },
      "source": [
        "# shape\n",
        "print(dataset.shape)"
      ],
      "execution_count": 3,
      "outputs": [
        {
          "output_type": "stream",
          "text": [
            "(208, 61)\n"
          ],
          "name": "stdout"
        }
      ]
    },
    {
      "cell_type": "code",
      "metadata": {
        "colab": {
          "base_uri": "https://localhost:8080/"
        },
        "id": "SCaoStxPnGee",
        "outputId": "5f57b010-a718-4c57-ebe9-0a230cb8410b"
      },
      "source": [
        "# types\n",
        "set_option('display.max_rows', 500)\n",
        "print(dataset.dtypes)"
      ],
      "execution_count": 4,
      "outputs": [
        {
          "output_type": "stream",
          "text": [
            "0     float64\n",
            "1     float64\n",
            "2     float64\n",
            "3     float64\n",
            "4     float64\n",
            "5     float64\n",
            "6     float64\n",
            "7     float64\n",
            "8     float64\n",
            "9     float64\n",
            "10    float64\n",
            "11    float64\n",
            "12    float64\n",
            "13    float64\n",
            "14    float64\n",
            "15    float64\n",
            "16    float64\n",
            "17    float64\n",
            "18    float64\n",
            "19    float64\n",
            "20    float64\n",
            "21    float64\n",
            "22    float64\n",
            "23    float64\n",
            "24    float64\n",
            "25    float64\n",
            "26    float64\n",
            "27    float64\n",
            "28    float64\n",
            "29    float64\n",
            "30    float64\n",
            "31    float64\n",
            "32    float64\n",
            "33    float64\n",
            "34    float64\n",
            "35    float64\n",
            "36    float64\n",
            "37    float64\n",
            "38    float64\n",
            "39    float64\n",
            "40    float64\n",
            "41    float64\n",
            "42    float64\n",
            "43    float64\n",
            "44    float64\n",
            "45    float64\n",
            "46    float64\n",
            "47    float64\n",
            "48    float64\n",
            "49    float64\n",
            "50    float64\n",
            "51    float64\n",
            "52    float64\n",
            "53    float64\n",
            "54    float64\n",
            "55    float64\n",
            "56    float64\n",
            "57    float64\n",
            "58    float64\n",
            "59    float64\n",
            "60     object\n",
            "dtype: object\n"
          ],
          "name": "stdout"
        }
      ]
    },
    {
      "cell_type": "code",
      "metadata": {
        "colab": {
          "base_uri": "https://localhost:8080/"
        },
        "id": "U5F478hanLNj",
        "outputId": "fa3711e7-8d64-44e2-bb50-8691f81e356a"
      },
      "source": [
        "# head\n",
        "set_option('display.width', 100)\n",
        "print(dataset.head(20))"
      ],
      "execution_count": 5,
      "outputs": [
        {
          "output_type": "stream",
          "text": [
            "        0       1       2       3       4   ...      56      57      58      59  60\n",
            "0   0.0200  0.0371  0.0428  0.0207  0.0954  ...  0.0180  0.0084  0.0090  0.0032   R\n",
            "1   0.0453  0.0523  0.0843  0.0689  0.1183  ...  0.0140  0.0049  0.0052  0.0044   R\n",
            "2   0.0262  0.0582  0.1099  0.1083  0.0974  ...  0.0316  0.0164  0.0095  0.0078   R\n",
            "3   0.0100  0.0171  0.0623  0.0205  0.0205  ...  0.0050  0.0044  0.0040  0.0117   R\n",
            "4   0.0762  0.0666  0.0481  0.0394  0.0590  ...  0.0072  0.0048  0.0107  0.0094   R\n",
            "5   0.0286  0.0453  0.0277  0.0174  0.0384  ...  0.0057  0.0027  0.0051  0.0062   R\n",
            "6   0.0317  0.0956  0.1321  0.1408  0.1674  ...  0.0092  0.0143  0.0036  0.0103   R\n",
            "7   0.0519  0.0548  0.0842  0.0319  0.1158  ...  0.0085  0.0047  0.0048  0.0053   R\n",
            "8   0.0223  0.0375  0.0484  0.0475  0.0647  ...  0.0065  0.0093  0.0059  0.0022   R\n",
            "9   0.0164  0.0173  0.0347  0.0070  0.0187  ...  0.0032  0.0035  0.0056  0.0040   R\n",
            "10  0.0039  0.0063  0.0152  0.0336  0.0310  ...  0.0042  0.0003  0.0053  0.0036   R\n",
            "11  0.0123  0.0309  0.0169  0.0313  0.0358  ...  0.0026  0.0092  0.0009  0.0044   R\n",
            "12  0.0079  0.0086  0.0055  0.0250  0.0344  ...  0.0059  0.0058  0.0059  0.0032   R\n",
            "13  0.0090  0.0062  0.0253  0.0489  0.1197  ...  0.0158  0.0053  0.0189  0.0102   R\n",
            "14  0.0124  0.0433  0.0604  0.0449  0.0597  ...  0.0114  0.0196  0.0147  0.0062   R\n",
            "15  0.0298  0.0615  0.0650  0.0921  0.1615  ...  0.0152  0.0049  0.0200  0.0073   R\n",
            "16  0.0352  0.0116  0.0191  0.0469  0.0737  ...  0.0095  0.0015  0.0073  0.0067   R\n",
            "17  0.0192  0.0607  0.0378  0.0774  0.1388  ...  0.0045  0.0037  0.0112  0.0075   R\n",
            "18  0.0270  0.0092  0.0145  0.0278  0.0412  ...  0.0120  0.0132  0.0070  0.0088   R\n",
            "19  0.0126  0.0149  0.0641  0.1732  0.2565  ...  0.0181  0.0094  0.0116  0.0063   R\n",
            "\n",
            "[20 rows x 61 columns]\n"
          ],
          "name": "stdout"
        }
      ]
    },
    {
      "cell_type": "code",
      "metadata": {
        "colab": {
          "base_uri": "https://localhost:8080/"
        },
        "id": "d5-B4uC1nPW6",
        "outputId": "0b82a6a9-1e93-4dba-cdad-5aa673a09e4f"
      },
      "source": [
        "# descriptions, change precision to 3 places\n",
        "set_option('precision', 3)\n",
        "print(dataset.describe())"
      ],
      "execution_count": 6,
      "outputs": [
        {
          "output_type": "stream",
          "text": [
            "            0          1        2   ...         57         58         59\n",
            "count  208.000  2.080e+02  208.000  ...  2.080e+02  2.080e+02  2.080e+02\n",
            "mean     0.029  3.844e-02    0.044  ...  7.949e-03  7.941e-03  6.507e-03\n",
            "std      0.023  3.296e-02    0.038  ...  6.470e-03  6.181e-03  5.031e-03\n",
            "min      0.002  6.000e-04    0.002  ...  3.000e-04  1.000e-04  6.000e-04\n",
            "25%      0.013  1.645e-02    0.019  ...  3.600e-03  3.675e-03  3.100e-03\n",
            "50%      0.023  3.080e-02    0.034  ...  5.800e-03  6.400e-03  5.300e-03\n",
            "75%      0.036  4.795e-02    0.058  ...  1.035e-02  1.033e-02  8.525e-03\n",
            "max      0.137  2.339e-01    0.306  ...  4.400e-02  3.640e-02  4.390e-02\n",
            "\n",
            "[8 rows x 60 columns]\n"
          ],
          "name": "stdout"
        }
      ]
    },
    {
      "cell_type": "code",
      "metadata": {
        "colab": {
          "base_uri": "https://localhost:8080/"
        },
        "id": "oKlaMXeEnS1e",
        "outputId": "2fafb4b3-f72b-4b04-bd63-815cbeda40cc"
      },
      "source": [
        "# class distribution\n",
        "print(dataset.groupby(60).size())"
      ],
      "execution_count": 7,
      "outputs": [
        {
          "output_type": "stream",
          "text": [
            "60\n",
            "M    111\n",
            "R     97\n",
            "dtype: int64\n"
          ],
          "name": "stdout"
        }
      ]
    },
    {
      "cell_type": "markdown",
      "metadata": {
        "id": "0Lue_sfOnUaD"
      },
      "source": [
        "## Unimodal Data Visualizations"
      ]
    },
    {
      "cell_type": "code",
      "metadata": {
        "colab": {
          "base_uri": "https://localhost:8080/"
        },
        "id": "IWM6tBoGndih",
        "outputId": "34e5a40b-20cd-4ae5-fab3-d357282dea56"
      },
      "source": [
        "# class distribution\n",
        "print(dataset.groupby(60).size())\n",
        "pyplot.show()"
      ],
      "execution_count": 8,
      "outputs": [
        {
          "output_type": "stream",
          "text": [
            "60\n",
            "M    111\n",
            "R     97\n",
            "dtype: int64\n"
          ],
          "name": "stdout"
        }
      ]
    },
    {
      "cell_type": "code",
      "metadata": {
        "colab": {
          "base_uri": "https://localhost:8080/",
          "height": 264
        },
        "id": "v82uz3gDniQf",
        "outputId": "92a93679-0496-4bf2-ebb7-e3627cbd8711"
      },
      "source": [
        "# density\n",
        "dataset.plot(kind='density', subplots=True, layout=(8,8), sharex=False, legend=False,\n",
        "fontsize=1)\n",
        "pyplot.show()"
      ],
      "execution_count": 9,
      "outputs": [
        {
          "output_type": "display_data",
          "data": {
            "image/png": "[encoded data removed]",
            "text/plain": [
              "<Figure size 432x288 with 64 Axes>"
            ]
          },
          "metadata": {
            "tags": [],
            "needs_background": "light"
          }
        }
      ]
    },
    {
      "cell_type": "markdown",
      "metadata": {
        "id": "D5WPlHn-nkmA"
      },
      "source": [
        "## Multimodal Data Visualizations"
      ]
    },
    {
      "cell_type": "code",
      "metadata": {
        "colab": {
          "base_uri": "https://localhost:8080/",
          "height": 271
        },
        "id": "VulfqVELnpGD",
        "outputId": "62f70f2b-9578-4bc4-e9fe-83be4808a973"
      },
      "source": [
        "# correlation matrix\n",
        "fig = pyplot.figure()\n",
        "ax = fig.add_subplot(111)\n",
        "cax = ax.matshow(dataset.corr(), vmin=-1, vmax=1, interpolation='none')\n",
        "fig.colorbar(cax)\n",
        "pyplot.show()"
      ],
      "execution_count": 10,
      "outputs": [
        {
          "output_type": "display_data",
          "data": {
            "image/png": "[encoded data removed]",
            "text/plain": [
              "<Figure size 432x288 with 2 Axes>"
            ]
          },
          "metadata": {
            "tags": [],
            "needs_background": "light"
          }
        }
      ]
    },
    {
      "cell_type": "markdown",
      "metadata": {
        "id": "iZh4mp3nnuYz"
      },
      "source": [
        "# Validation Dataset"
      ]
    },
    {
      "cell_type": "code",
      "metadata": {
        "id": "FxSuGI4intem"
      },
      "source": [
        "# Split-out validation dataset\n",
        "array = dataset.values\n",
        "X = array[:,0:60].astype(float)\n",
        "Y = array[:,60]\n",
        "validation_size = 0.20\n",
        "seed = 7\n",
        "X_train, X_validation, Y_train, Y_validation = train_test_split(X, Y,\n",
        "test_size=validation_size, random_state=seed)"
      ],
      "execution_count": 11,
      "outputs": []
    },
    {
      "cell_type": "markdown",
      "metadata": {
        "id": "sG4-wlDWn4C7"
      },
      "source": [
        "# Evaluate Algorithms: Baseline"
      ]
    },
    {
      "cell_type": "code",
      "metadata": {
        "id": "saj3VER2n3Vi"
      },
      "source": [
        "# Test options and evaluation metric\n",
        "num_folds = 10\n",
        "seed = 7\n",
        "scoring = 'accuracy'"
      ],
      "execution_count": 12,
      "outputs": []
    },
    {
      "cell_type": "code",
      "metadata": {
        "id": "80rJR8pin_pa"
      },
      "source": [
        "# Spot-Check Algorithms\n",
        "models = []\n",
        "models.append(('LR', LogisticRegression(solver='liblinear')))\n",
        "models.append(('LDA', LinearDiscriminantAnalysis()))\n",
        "models.append(('KNN', KNeighborsClassifier()))\n",
        "models.append(('CART', DecisionTreeClassifier()))\n",
        "models.append(('NB', GaussianNB()))\n",
        "models.append(('SVM', SVC(gamma='auto')))"
      ],
      "execution_count": 13,
      "outputs": []
    },
    {
      "cell_type": "code",
      "metadata": {
        "colab": {
          "base_uri": "https://localhost:8080/"
        },
        "id": "hGBnun1soDR4",
        "outputId": "b14b9187-0fc5-4f67-d2e4-cec005c5b2a6"
      },
      "source": [
        "results = []\n",
        "names = []\n",
        "for name, model in models:\n",
        "  kfold = KFold(n_splits=num_folds, random_state=seed, shuffle=True)\n",
        "  cv_results = cross_val_score(model, X_train, Y_train, cv=kfold, scoring=scoring)\n",
        "  results.append(cv_results)\n",
        "  names.append(name)\n",
        "  msg = \"%s: %f (%f)\" % (name, cv_results.mean(), cv_results.std())\n",
        "  print(msg)"
      ],
      "execution_count": 15,
      "outputs": [
        {
          "output_type": "stream",
          "text": [
            "LR: 0.759926 (0.091145)\n",
            "LDA: 0.778676 (0.093570)\n",
            "KNN: 0.758824 (0.106417)\n",
            "CART: 0.745956 (0.094356)\n",
            "NB: 0.682721 (0.136040)\n",
            "SVM: 0.565809 (0.141326)\n"
          ],
          "name": "stdout"
        }
      ]
    },
    {
      "cell_type": "code",
      "metadata": {
        "colab": {
          "base_uri": "https://localhost:8080/",
          "height": 294
        },
        "id": "To5Rg-ttoGv7",
        "outputId": "f3142e5e-5e59-44b0-f25e-04471ca00ba0"
      },
      "source": [
        "# Compare Algorithms\n",
        "fig = pyplot.figure()\n",
        "fig.suptitle('Algorithm Comparison')\n",
        "ax = fig.add_subplot(111)\n",
        "pyplot.boxplot(results)\n",
        "ax.set_xticklabels(names)\n",
        "pyplot.show()"
      ],
      "execution_count": 16,
      "outputs": [
        {
          "output_type": "display_data",
          "data": {
            "image/png": "[encoded data removed]",
            "text/plain": [
              "<Figure size 432x288 with 1 Axes>"
            ]
          },
          "metadata": {
            "tags": [],
            "needs_background": "light"
          }
        }
      ]
    },
    {
      "cell_type": "markdown",
      "metadata": {
        "id": "aJwJqB3NoKl0"
      },
      "source": [
        "# Evaluate Algorithms: Standardize Data"
      ]
    },
    {
      "cell_type": "code",
      "metadata": {
        "colab": {
          "base_uri": "https://localhost:8080/"
        },
        "id": "nelW38r0oScS",
        "outputId": "2583aa6c-d8fb-4127-cc89-ea4a28267c47"
      },
      "source": [
        "# Standardize the dataset\n",
        "pipelines = []\n",
        "pipelines.append(('ScaledLR', Pipeline([('Scaler', StandardScaler()),('LR',\n",
        "LogisticRegression(solver='liblinear'))])))\n",
        "pipelines.append(('ScaledLDA', Pipeline([('Scaler', StandardScaler()),('LDA',\n",
        "LinearDiscriminantAnalysis())])))\n",
        "pipelines.append(('ScaledKNN', Pipeline([('Scaler', StandardScaler()),('KNN',\n",
        "KNeighborsClassifier())])))\n",
        "pipelines.append(('ScaledCART', Pipeline([('Scaler', StandardScaler()),('CART',\n",
        "DecisionTreeClassifier())])))\n",
        "pipelines.append(('ScaledNB', Pipeline([('Scaler', StandardScaler()),('NB',\n",
        "GaussianNB())])))\n",
        "pipelines.append(('ScaledSVM', Pipeline([('Scaler', StandardScaler()),('SVM',\n",
        "SVC(gamma='auto'))])))\n",
        "results = []\n",
        "names = []\n",
        "for name, model in pipelines:\n",
        "  kfold = KFold(n_splits=num_folds, random_state=seed, shuffle=True)\n",
        "  cv_results = cross_val_score(model, X_train, Y_train, cv=kfold, scoring=scoring)\n",
        "  results.append(cv_results)  \n",
        "  names.append(name)\n",
        "  msg = \"%s: %f (%f)\" % (name, cv_results.mean(), cv_results.std())\n",
        "  print(msg)"
      ],
      "execution_count": 17,
      "outputs": [
        {
          "output_type": "stream",
          "text": [
            "ScaledLR: 0.754412 (0.067926)\n",
            "ScaledLDA: 0.778676 (0.093570)\n",
            "ScaledKNN: 0.808456 (0.107996)\n",
            "ScaledCART: 0.715441 (0.092953)\n",
            "ScaledNB: 0.682721 (0.136040)\n",
            "ScaledSVM: 0.826103 (0.081814)\n"
          ],
          "name": "stdout"
        }
      ]
    },
    {
      "cell_type": "code",
      "metadata": {
        "colab": {
          "base_uri": "https://localhost:8080/",
          "height": 294
        },
        "id": "f3V2Lb61ocla",
        "outputId": "29e7683d-57ea-4778-856e-a0f800d6bc52"
      },
      "source": [
        "# Compare Algorithms\n",
        "fig = pyplot.figure()\n",
        "fig.suptitle('Scaled Algorithm Comparison')\n",
        "ax = fig.add_subplot(111)\n",
        "pyplot.boxplot(results)\n",
        "ax.set_xticklabels(names)\n",
        "pyplot.show()"
      ],
      "execution_count": 18,
      "outputs": [
        {
          "output_type": "display_data",
          "data": {
            "image/png": "[encoded data removed]",
            "text/plain": [
              "<Figure size 432x288 with 1 Axes>"
            ]
          },
          "metadata": {
            "tags": [],
            "needs_background": "light"
          }
        }
      ]
    },
    {
      "cell_type": "markdown",
      "metadata": {
        "id": "dCpj9yQmoeu4"
      },
      "source": [
        "# Algorithm Tuning\n",
        "\n",
        "\n",
        "1.   KNN\n",
        "2.   SVM\n",
        "\n"
      ]
    },
    {
      "cell_type": "code",
      "metadata": {
        "colab": {
          "base_uri": "https://localhost:8080/"
        },
        "id": "JUPL_Ou5ozwe",
        "outputId": "373130e2-76bd-45d4-e654-039a04b3b866"
      },
      "source": [
        "# Tune scaled KNN\n",
        "scaler = StandardScaler().fit(X_train)\n",
        "rescaledX = scaler.transform(X_train)\n",
        "neighbors = [1,3,5,7,9,11,13,15,17,19,21]\n",
        "param_grid = dict(n_neighbors=neighbors)\n",
        "model = KNeighborsClassifier()\n",
        "kfold = KFold(n_splits=num_folds, random_state=seed, shuffle=True)\n",
        "grid = GridSearchCV(estimator=model, param_grid=param_grid, scoring=scoring, cv=kfold)\n",
        "grid_result = grid.fit(rescaledX, Y_train)\n",
        "print(\"Best: %f using %s\" % (grid_result.best_score_, grid_result.best_params_))\n",
        "means = grid_result.cv_results_['mean_test_score']\n",
        "stds = grid_result.cv_results_['std_test_score']\n",
        "params = grid_result.cv_results_['params']\n",
        "for mean, stdev, param in zip(means, stds, params):\n",
        "  print(\"%f (%f) with: %r\" % (mean, stdev, param))"
      ],
      "execution_count": 19,
      "outputs": [
        {
          "output_type": "stream",
          "text": [
            "Best: 0.836029 using {'n_neighbors': 1}\n",
            "0.836029 (0.079487) with: {'n_neighbors': 1}\n",
            "0.813603 (0.088021) with: {'n_neighbors': 3}\n",
            "0.814338 (0.096870) with: {'n_neighbors': 5}\n",
            "0.777574 (0.120387) with: {'n_neighbors': 7}\n",
            "0.730147 (0.099376) with: {'n_neighbors': 9}\n",
            "0.741544 (0.073970) with: {'n_neighbors': 11}\n",
            "0.710662 (0.105829) with: {'n_neighbors': 13}\n",
            "0.723162 (0.080983) with: {'n_neighbors': 15}\n",
            "0.698897 (0.072669) with: {'n_neighbors': 17}\n",
            "0.710662 (0.091337) with: {'n_neighbors': 19}\n",
            "0.698897 (0.091195) with: {'n_neighbors': 21}\n"
          ],
          "name": "stdout"
        }
      ]
    },
    {
      "cell_type": "code",
      "metadata": {
        "colab": {
          "base_uri": "https://localhost:8080/"
        },
        "id": "vTtcm9guo9fl",
        "outputId": "0ee01bd0-b7ba-4c3c-c02f-09a6cb07ebe7"
      },
      "source": [
        "# Tune scaled SVM\n",
        "scaler = StandardScaler().fit(X_train)\n",
        "rescaledX = scaler.transform(X_train)\n",
        "c_values = [0.1, 0.3, 0.5, 0.7, 0.9, 1.0, 1.3, 1.5, 1.7, 2.0]\n",
        "kernel_values = ['linear', 'poly', 'rbf', 'sigmoid']\n",
        "param_grid = dict(C=c_values, kernel=kernel_values)\n",
        "model = SVC(gamma='auto')\n",
        "kfold = KFold(n_splits=num_folds, random_state=seed, shuffle=True)\n",
        "grid = GridSearchCV(estimator=model, param_grid=param_grid, scoring=scoring, cv=kfold)\n",
        "grid_result = grid.fit(rescaledX, Y_train)\n",
        "print(\"Best: %f using %s\" % (grid_result.best_score_, grid_result.best_params_))\n",
        "means = grid_result.cv_results_['mean_test_score']\n",
        "stds = grid_result.cv_results_['std_test_score']\n",
        "params = grid_result.cv_results_['params']\n",
        "for mean, stdev, param in zip(means, stds, params):\n",
        "  print(\"%f (%f) with: %r\" % (mean, stdev, param))"
      ],
      "execution_count": 21,
      "outputs": [
        {
          "output_type": "stream",
          "text": [
            "Best: 0.850735 using {'C': 2.0, 'kernel': 'poly'}\n",
            "0.748529 (0.069953) with: {'C': 0.1, 'kernel': 'linear'}\n",
            "0.570956 (0.131380) with: {'C': 0.1, 'kernel': 'poly'}\n",
            "0.601103 (0.184435) with: {'C': 0.1, 'kernel': 'rbf'}\n",
            "0.712868 (0.116579) with: {'C': 0.1, 'kernel': 'sigmoid'}\n",
            "0.754412 (0.082337) with: {'C': 0.3, 'kernel': 'linear'}\n",
            "0.656618 (0.104417) with: {'C': 0.3, 'kernel': 'poly'}\n",
            "0.748162 (0.085295) with: {'C': 0.3, 'kernel': 'rbf'}\n",
            "0.748897 (0.078423) with: {'C': 0.3, 'kernel': 'sigmoid'}\n",
            "0.765809 (0.070336) with: {'C': 0.5, 'kernel': 'linear'}\n",
            "0.704412 (0.110346) with: {'C': 0.5, 'kernel': 'poly'}\n",
            "0.772426 (0.081837) with: {'C': 0.5, 'kernel': 'rbf'}\n",
            "0.760662 (0.065632) with: {'C': 0.5, 'kernel': 'sigmoid'}\n",
            "0.759926 (0.083206) with: {'C': 0.7, 'kernel': 'linear'}\n",
            "0.753676 (0.095135) with: {'C': 0.7, 'kernel': 'poly'}\n",
            "0.814338 (0.059832) with: {'C': 0.7, 'kernel': 'rbf'}\n",
            "0.766912 (0.072850) with: {'C': 0.7, 'kernel': 'sigmoid'}\n",
            "0.765441 (0.066964) with: {'C': 0.9, 'kernel': 'linear'}\n",
            "0.783824 (0.093729) with: {'C': 0.9, 'kernel': 'poly'}\n",
            "0.813971 (0.066689) with: {'C': 0.9, 'kernel': 'rbf'}\n",
            "0.760662 (0.079898) with: {'C': 0.9, 'kernel': 'sigmoid'}\n",
            "0.771691 (0.062141) with: {'C': 1.0, 'kernel': 'linear'}\n",
            "0.813971 (0.097315) with: {'C': 1.0, 'kernel': 'poly'}\n",
            "0.819853 (0.069795) with: {'C': 1.0, 'kernel': 'rbf'}\n",
            "0.760662 (0.079898) with: {'C': 1.0, 'kernel': 'sigmoid'}\n",
            "0.772059 (0.076696) with: {'C': 1.3, 'kernel': 'linear'}\n",
            "0.826103 (0.075722) with: {'C': 1.3, 'kernel': 'poly'}\n",
            "0.838235 (0.092498) with: {'C': 1.3, 'kernel': 'rbf'}\n",
            "0.754779 (0.073162) with: {'C': 1.3, 'kernel': 'sigmoid'}\n",
            "0.772426 (0.085441) with: {'C': 1.5, 'kernel': 'linear'}\n",
            "0.838603 (0.077580) with: {'C': 1.5, 'kernel': 'poly'}\n",
            "0.844118 (0.089455) with: {'C': 1.5, 'kernel': 'rbf'}\n",
            "0.731250 (0.091624) with: {'C': 1.5, 'kernel': 'sigmoid'}\n",
            "0.778676 (0.085856) with: {'C': 1.7, 'kernel': 'linear'}\n",
            "0.838603 (0.077580) with: {'C': 1.7, 'kernel': 'poly'}\n",
            "0.850000 (0.089841) with: {'C': 1.7, 'kernel': 'rbf'}\n",
            "0.712868 (0.093998) with: {'C': 1.7, 'kernel': 'sigmoid'}\n",
            "0.778676 (0.085856) with: {'C': 2.0, 'kernel': 'linear'}\n",
            "0.850735 (0.069352) with: {'C': 2.0, 'kernel': 'poly'}\n",
            "0.850000 (0.081776) with: {'C': 2.0, 'kernel': 'rbf'}\n",
            "0.725000 (0.091776) with: {'C': 2.0, 'kernel': 'sigmoid'}\n"
          ],
          "name": "stdout"
        }
      ]
    },
    {
      "cell_type": "markdown",
      "metadata": {
        "id": "499WvAIfpAu0"
      },
      "source": [
        "# Ensemble Methods\n",
        "\n",
        "\n",
        "1.   Boosting Methods: AdaBoost (AB) and Gradient Boosting (GBM)\n",
        "2.   Bagging Methods: Random Forests (RF) and Extra Trees (ET)\n",
        "\n",
        "\n",
        "\n"
      ]
    },
    {
      "cell_type": "code",
      "metadata": {
        "colab": {
          "base_uri": "https://localhost:8080/"
        },
        "id": "bwrN66KDpirx",
        "outputId": "d858f868-ce02-409f-83af-531fab863428"
      },
      "source": [
        "# ensembles\n",
        "ensembles = []\n",
        "ensembles.append(('AB', AdaBoostClassifier()))\n",
        "ensembles.append(('GBM', GradientBoostingClassifier()))\n",
        "ensembles.append(('RF', RandomForestClassifier(n_estimators=10)))\n",
        "ensembles.append(('ET', ExtraTreesClassifier(n_estimators=10)))\n",
        "results = []\n",
        "names = []\n",
        "for name, model in ensembles:\n",
        "  kfold = KFold(n_splits=num_folds, random_state=seed, shuffle=True)\n",
        "  cv_results = cross_val_score(model, X_train, Y_train, cv=kfold, scoring=scoring)\n",
        "  results.append(cv_results)\n",
        "  names.append(name)\n",
        "  msg = \"%s: %f (%f)\" % (name, cv_results.mean(), cv_results.std())\n",
        "  print(msg)"
      ],
      "execution_count": 23,
      "outputs": [
        {
          "output_type": "stream",
          "text": [
            "AB: 0.782721 (0.072445)\n",
            "GBM: 0.802206 (0.125892)\n",
            "RF: 0.717647 (0.126353)\n",
            "ET: 0.770588 (0.099254)\n"
          ],
          "name": "stdout"
        }
      ]
    },
    {
      "cell_type": "code",
      "metadata": {
        "colab": {
          "base_uri": "https://localhost:8080/",
          "height": 294
        },
        "id": "gB0XHw6kppO1",
        "outputId": "02d548e4-a337-4bc3-835e-b592157a05cc"
      },
      "source": [
        "# Compare Algorithms\n",
        "fig = pyplot.figure()\n",
        "fig.suptitle('Ensemble Algorithm Comparison')\n",
        "ax = fig.add_subplot(111)\n",
        "pyplot.boxplot(results)\n",
        "ax.set_xticklabels(names)\n",
        "pyplot.show()"
      ],
      "execution_count": 24,
      "outputs": [
        {
          "output_type": "display_data",
          "data": {
            "image/png": "[encoded data removed]",
            "text/plain": [
              "<Figure size 432x288 with 1 Axes>"
            ]
          },
          "metadata": {
            "tags": [],
            "needs_background": "light"
          }
        }
      ]
    },
    {
      "cell_type": "markdown",
      "metadata": {
        "id": "iO5UHsbFpq-L"
      },
      "source": [
        "# Finalize Model"
      ]
    },
    {
      "cell_type": "code",
      "metadata": {
        "colab": {
          "base_uri": "https://localhost:8080/"
        },
        "id": "QFkzPeK7pviC",
        "outputId": "c245595c-cc92-4c47-9dc7-d2f1b0edd0dd"
      },
      "source": [
        "# prepare the model\n",
        "scaler = StandardScaler().fit(X_train)\n",
        "rescaledX = scaler.transform(X_train)\n",
        "model = SVC(C=1.5)\n",
        "model.fit(rescaledX, Y_train)\n",
        "# estimate accuracy on validation dataset\n",
        "rescaledValidationX = scaler.transform(X_validation)\n",
        "predictions = model.predict(rescaledValidationX)\n",
        "print(accuracy_score(Y_validation, predictions))\n",
        "print(confusion_matrix(Y_validation, predictions))\n",
        "print(classification_report(Y_validation, predictions))"
      ],
      "execution_count": 25,
      "outputs": [
        {
          "output_type": "stream",
          "text": [
            "0.8571428571428571\n",
            "[[23  4]\n",
            " [ 2 13]]\n",
            "              precision    recall  f1-score   support\n",
            "\n",
            "           M       0.92      0.85      0.88        27\n",
            "           R       0.76      0.87      0.81        15\n",
            "\n",
            "    accuracy                           0.86        42\n",
            "   macro avg       0.84      0.86      0.85        42\n",
            "weighted avg       0.86      0.86      0.86        42\n",
            "\n"
          ],
          "name": "stdout"
        }
      ]
    }
  ]
}